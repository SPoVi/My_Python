{
 "cells": [
  {
   "cell_type": "markdown",
   "metadata": {},
   "source": [
    "## List Comprehension\n",
    "\n",
    "List comprehension offers a shorter syntax when you want to create a new list based on the values of an existing list."
   ]
  },
  {
   "cell_type": "code",
   "execution_count": 11,
   "metadata": {},
   "outputs": [
    {
     "name": "stdout",
     "output_type": "stream",
     "text": [
      "['apple', 'banana', 'mango']\n"
     ]
    }
   ],
   "source": [
    "fruits = [\"apple\", \"banana\", \"cherry\", \"kiwi\", \"mango\"]\n",
    "\n",
    "newlist = [x for x in fruits if \"a\" in x]\n",
    "\n",
    "print(newlist)"
   ]
  },
  {
   "cell_type": "markdown",
   "metadata": {},
   "source": [
    "#### The Syntax\n",
    "\n",
    "newlist = [expression __for__ item __in__ iterable __if__ condition == True]\n",
    "\n",
    "- __Expression__ can be simply the item itself, a mathematical operation, a string method, a function, or even include a conditional statement or be another list comprehension, applied to the items.\n",
    "\n",
    "- __Item__ is each singular object or value in the iterable.\n",
    "\n",
    "- __Iterable__ is any Python object that is capable of returning each item one at a time. Lists, strings, sets, tuples, dictionaries, generators, and others are all iterable objects.\n",
    "\n",
    "- __Condition__ makes use of if statements to filter your list items according to a condition. You can use this or just skip it if you don’t need it. However, the other three parts are always necessary for a list comprehension to work.\n",
    "\n",
    "\"hacer esto __por__ cada esto __en__ esto __si__ esto es verdad\"\n"
   ]
  },
  {
   "cell_type": "markdown",
   "metadata": {},
   "source": [
    "#### Example 1: Create a list of items from iterable"
   ]
  },
  {
   "cell_type": "code",
   "execution_count": 12,
   "metadata": {},
   "outputs": [
    {
     "name": "stdout",
     "output_type": "stream",
     "text": [
      "[1, 2, 3, 4, 5, 6, 7, 8, 9, 10]\n"
     ]
    }
   ],
   "source": [
    "numbers = [number for number in range(1,11)]\n",
    "\n",
    "print(numbers)"
   ]
  },
  {
   "cell_type": "markdown",
   "metadata": {},
   "source": [
    "#### Example 2: Create a list performing operation"
   ]
  },
  {
   "cell_type": "code",
   "execution_count": 13,
   "metadata": {},
   "outputs": [
    {
     "name": "stdout",
     "output_type": "stream",
     "text": [
      "[1, 4, 9, 16, 25, 36, 49, 64, 81, 100]\n"
     ]
    }
   ],
   "source": [
    "squares = [n * n for n in numbers]\n",
    "print(squares)"
   ]
  },
  {
   "cell_type": "markdown",
   "metadata": {},
   "source": [
    "#### Example 3: Create a list performing operation with more than one list"
   ]
  },
  {
   "cell_type": "code",
   "execution_count": 14,
   "metadata": {},
   "outputs": [
    {
     "name": "stdout",
     "output_type": "stream",
     "text": [
      "[2, 6, 12, 20, 30, 42, 56, 72, 90, 110]\n"
     ]
    }
   ],
   "source": [
    "n_plus_square = [n + s for n, s in zip(numbers, squares)]\n",
    "print(n_plus_square)"
   ]
  },
  {
   "cell_type": "markdown",
   "metadata": {},
   "source": [
    "#### Example 4: Create a list of tuples"
   ]
  },
  {
   "cell_type": "code",
   "execution_count": 15,
   "metadata": {},
   "outputs": [
    {
     "name": "stdout",
     "output_type": "stream",
     "text": [
      "[(1, 1), (2, 4), (3, 9), (4, 16), (5, 25), (6, 36), (7, 49), (8, 64), (9, 81), (10, 100)]\n"
     ]
    }
   ],
   "source": [
    "list_of_tuples = [(n, n*n) for n in numbers]\n",
    "print(list_of_tuples)"
   ]
  },
  {
   "cell_type": "markdown",
   "metadata": {},
   "source": [
    "#### Example 5: Create a list performing a method"
   ]
  },
  {
   "cell_type": "code",
   "execution_count": 16,
   "metadata": {},
   "outputs": [
    {
     "name": "stdout",
     "output_type": "stream",
     "text": [
      "['maria123@gmail.com', 'keanureeves@gmail.com', 'nineties_songs@gmail.com', 'smart.coder@gmail.com']\n"
     ]
    }
   ],
   "source": [
    "emails = ['Maria123','keanureeves','nineties_songs','Smart.coder']\n",
    "\n",
    "correct_emails = [email.lower() + '@gmail.com' for email in emails]\n",
    "\n",
    "print(correct_emails)"
   ]
  },
  {
   "cell_type": "markdown",
   "metadata": {},
   "source": [
    "#### Example 6: Create list applying functions"
   ]
  },
  {
   "cell_type": "code",
   "execution_count": 17,
   "metadata": {},
   "outputs": [
    {
     "name": "stdout",
     "output_type": "stream",
     "text": [
      "[-37.5, -34.5, -29.5, -22.5, -13.5, -2.5, 10.5, 25.5, 42.5, 61.5]\n"
     ]
    }
   ],
   "source": [
    "new_list = [eval('x-sum(squares)/len(squares)') for x in squares]\n",
    "\n",
    "print(new_list)"
   ]
  },
  {
   "cell_type": "markdown",
   "metadata": {},
   "source": [
    "#### Example 7: Create a list using if/else condition as an expression"
   ]
  },
  {
   "cell_type": "code",
   "execution_count": 18,
   "metadata": {},
   "outputs": [
    {
     "name": "stdout",
     "output_type": "stream",
     "text": [
      "[0, 0, 0, 0, 0, 0, 10.5, 25.5, 42.5, 61.5]\n"
     ]
    }
   ],
   "source": [
    "positivies = [n if n > 0 else 0 for n in new_list]\n",
    "print(positivies)"
   ]
  },
  {
   "cell_type": "markdown",
   "metadata": {},
   "source": [
    "#### Example 8: Create a list using another list comprehension as an expresion"
   ]
  },
  {
   "cell_type": "code",
   "execution_count": 26,
   "metadata": {},
   "outputs": [
    {
     "name": "stdout",
     "output_type": "stream",
     "text": [
      "['l', 'e', 't', 't', 'h', 'e', 's', 'u', 'n', 's', 'h', 'i', 'n', 'e']\n",
      "['let', 'the', 'sun', 'shine']\n"
     ]
    }
   ],
   "source": [
    "list_of_words = ['let', 'the', 'sun', 'shine']\n",
    "\n",
    "letters = [letter for word in list_of_words for letter in word]\n",
    "words = [word for word in list_of_words]\n",
    "\n",
    "print(letters)\n",
    "print(words)"
   ]
  },
  {
   "cell_type": "markdown",
   "metadata": {},
   "source": [
    "#### Example 9: Create a list with nested listed comprehensions"
   ]
  },
  {
   "cell_type": "code",
   "execution_count": 21,
   "metadata": {},
   "outputs": [
    {
     "name": "stdout",
     "output_type": "stream",
     "text": [
      "[['l', 'e', 't'], ['t', 'h', 'e'], ['s', 'u', 'n'], ['s', 'h', 'i', 'n', 'e']]\n"
     ]
    }
   ],
   "source": [
    "nested = [[letter for letter in word] for word in list_of_words]\n",
    "print(nested)"
   ]
  },
  {
   "cell_type": "code",
   "execution_count": 23,
   "metadata": {},
   "outputs": [
    {
     "name": "stdout",
     "output_type": "stream",
     "text": [
      "[[0, 0, 0], [0, 0, 0], [0, 0, 0], [0, 0, 0]]\n"
     ]
    }
   ],
   "source": [
    "matrix = [[0 for item in range(3)] for row in range(4)]\n",
    "print(matrix)"
   ]
  },
  {
   "cell_type": "code",
   "execution_count": 28,
   "metadata": {},
   "outputs": [
    {
     "name": "stdout",
     "output_type": "stream",
     "text": [
      "[[0, 1, 2, 3], [0, 1, 2, 3]]\n",
      "[[0, 0], [1, 1], [2, 2], [3, 3]]\n"
     ]
    }
   ],
   "source": [
    "X = [[item for item in range(4)] for row in range(2)]\n",
    "print(X)\n",
    "\n",
    "X_t = [[X[j][i] for j in range(len(X))] for i in range(len(X[0]))]\n",
    "print(X_t)"
   ]
  },
  {
   "cell_type": "markdown",
   "metadata": {},
   "source": [
    "#### Example 10: Create a list with condition"
   ]
  },
  {
   "cell_type": "code",
   "execution_count": 29,
   "metadata": {},
   "outputs": [
    {
     "name": "stdout",
     "output_type": "stream",
     "text": [
      "['l', 't', 't', 'h', 's', 'n', 's', 'h', 'n']\n"
     ]
    }
   ],
   "source": [
    "consonants = [l for l in letters if l not in 'aeiou']\n",
    "print(consonants)"
   ]
  },
  {
   "cell_type": "markdown",
   "metadata": {},
   "source": [
    "#### Example 11: Create a list with multiple conditions"
   ]
  },
  {
   "cell_type": "code",
   "execution_count": 30,
   "metadata": {},
   "outputs": [
    {
     "name": "stdout",
     "output_type": "stream",
     "text": [
      "[2, 3, 6, 8, 9, 10, 12, 15, 24, 28, 30]\n"
     ]
    }
   ],
   "source": [
    "numbers = [2,3,5,6,7,8,9,10,12,15,24,28,30]\n",
    "\n",
    "multiples_2_or_3 = [n for n in numbers if n%2==0 or n%3==0]\n",
    "\n",
    "print(multiples_2_or_3)"
   ]
  },
  {
   "cell_type": "markdown",
   "metadata": {},
   "source": [
    "#### Example 12: Create a list with nested conditions"
   ]
  },
  {
   "cell_type": "code",
   "execution_count": 31,
   "metadata": {},
   "outputs": [
    {
     "name": "stdout",
     "output_type": "stream",
     "text": [
      "['l', 't', 't', 'h', 's', 'h', 'n']\n"
     ]
    }
   ],
   "source": [
    "list_of_words = ['let', 'the', 'sun', 'shine']\n",
    "\n",
    "conditional_letters = [l for word in list_of_words if word != 'sun' for l in word if l not in 'aeiou']\n",
    "\n",
    "print(conditional_letters)"
   ]
  },
  {
   "cell_type": "markdown",
   "metadata": {},
   "source": [
    "## Exercises\n",
    "\n",
    "#### Exercise 1:\n",
    "\n",
    "You are given three integers 'x,y,z' and representing the dimensions of a cuboid along with an integer 'n' . Print a list of all possible coordinates given by (i,j,k) on a 3D grid where the sum of 'i+j+k'is not equal to 'n'.\n",
    "\n"
   ]
  },
  {
   "cell_type": "code",
   "execution_count": 33,
   "metadata": {},
   "outputs": [
    {
     "name": "stdout",
     "output_type": "stream",
     "text": [
      "[[0, 0, 0], [0, 0, 1], [0, 0, 2], [0, 1, 0], [0, 1, 1], [0, 1, 2], [1, 0, 0], [1, 0, 1], [1, 0, 2], [1, 1, 0], [1, 1, 1], [1, 1, 2]]\n",
      "-- FILTERED --\n",
      "[[0, 0, 0], [0, 0, 1], [0, 0, 2], [0, 1, 0], [0, 1, 1], [1, 0, 0], [1, 0, 1], [1, 1, 0], [1, 1, 2]]\n"
     ]
    }
   ],
   "source": [
    "x = 1\n",
    "y = 1\n",
    "z = 2\n",
    "n = 3\n",
    "\n",
    "matrix = [[a,b,c] for a in range(x+1) for b in range(y+1) for c in range(z+1)]\n",
    "print(matrix)\n",
    "\n",
    "print(\"-- FILTERED --\")\n",
    "matrix2 = [line for line in matrix if sum(line) != n]\n",
    "print(matrix2)"
   ]
  }
 ],
 "metadata": {
  "interpreter": {
   "hash": "4f3b078249380ea762697f4f8f6aea77b3d6e43cbb1b18cbb73d8cde5aa597e7"
  },
  "kernelspec": {
   "display_name": "Python 3.9.10 64-bit (system)",
   "language": "python",
   "name": "python3"
  },
  "language_info": {
   "codemirror_mode": {
    "name": "ipython",
    "version": 3
   },
   "file_extension": ".py",
   "mimetype": "text/x-python",
   "name": "python",
   "nbconvert_exporter": "python",
   "pygments_lexer": "ipython3",
   "version": "3.8.12"
  },
  "orig_nbformat": 4
 },
 "nbformat": 4,
 "nbformat_minor": 2
}
